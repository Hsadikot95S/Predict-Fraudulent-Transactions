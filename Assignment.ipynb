{
 "cells": [
  {
   "cell_type": "markdown",
   "id": "c0974ddb",
   "metadata": {},
   "source": [
    "# Business Context\n",
    "\n",
    "Business Context\n",
    "This case requires trainees to develop a model for predicting fraudulent transactions for a financial company and use insights from the model to develop an actionable plan. Data for the case is available in CSV format having 6362620 rows and 10 columns.\n",
    "Candidates can use whatever method they wish to develop their machine learning model. Following usual model development procedures, the model would be estimated on the calibration data and tested on the validation data. This case requires both statistical analysis and creativity/judgment. We recommend you spend time on both fine-tuning and interpreting the results of your machine learning model."
   ]
  },
  {
   "cell_type": "markdown",
   "id": "4257307f",
   "metadata": {},
   "source": [
    "# Data Dictioary\n",
    "\n",
    "step - maps a unit of time in the real world. In this case 1 step is 1 hour of time. Total steps 744 (30 days simulation).\n",
    "\n",
    "type - CASH-IN, CASH-OUT, DEBIT, PAYMENT and TRANSFER.\n",
    "\n",
    "amount - amount of the transaction in local currency.\n",
    "\n",
    "nameOrig - customer who started the transaction\n",
    "\n",
    "oldbalanceOrg - initial balance before the transaction\n",
    "\n",
    "newbalanceOrig - new balance after the transaction\n",
    "\n",
    "nameDest - customer who is the recipient of the transaction\n",
    "\n",
    "oldbalanceDest - initial balance recipient before the transaction. Note that there is not information for customers that start with M (Merchants).\n",
    "\n",
    "newbalanceDest - new balance recipient after the transaction. Note that there is not information for customers that start with M (Merchants).\n",
    "\n",
    "isFraud - This is the transactions made by the fraudulent agents inside the simulation. In this specific dataset the fraudulent behavior of the agents aims to profit by taking control or customers accounts and try to empty the funds by transferring to another account and then cashing out of the system.\n",
    "\n",
    "isFlaggedFraud - The business model aims to control massive transfers from one account to another and flags illegal attempts. An illegal attempt in this dataset is an attempt to transfer more than 200.000 in a single transaction."
   ]
  },
  {
   "cell_type": "markdown",
   "id": "dad8a0cf",
   "metadata": {},
   "source": [
    "# Import Libraries"
   ]
  },
  {
   "cell_type": "code",
   "execution_count": null,
   "id": "bfbc69c5",
   "metadata": {},
   "outputs": [],
   "source": [
    "import warnings\n",
    "warnings.filterwarnings('ignore')\n",
    "import pandas as pd\n",
    "import numpy as np\n",
    "import matplotlib.pyplot as plt\n",
    "%matplotlib inline\n",
    "import seaborn as sns\n",
    "import os"
   ]
  },
  {
   "cell_type": "markdown",
   "id": "f6dad20d",
   "metadata": {},
   "source": [
    "# Import the Dataset"
   ]
  },
  {
   "cell_type": "code",
   "execution_count": null,
   "id": "b33845ad",
   "metadata": {},
   "outputs": [],
   "source": [
    "# We change the directory to where the files are currently stored\n",
    "\n",
    "os.chdir('C:/Users/sadik/OneDrive/Desktop/Insaid')\n",
    "\n",
    "df=pd.read_csv('Fraud.csv')\n",
    "\n",
    "df.head()"
   ]
  },
  {
   "cell_type": "code",
   "execution_count": null,
   "id": "98f836c9",
   "metadata": {
    "scrolled": true
   },
   "outputs": [],
   "source": [
    "df.info()"
   ]
  },
  {
   "cell_type": "code",
   "execution_count": null,
   "id": "8d0cb33a",
   "metadata": {},
   "outputs": [],
   "source": [
    "df.describe()"
   ]
  },
  {
   "cell_type": "markdown",
   "id": "81d30d41",
   "metadata": {},
   "source": [
    "# Data Cleaning, Preprocessing and EDA"
   ]
  },
  {
   "cell_type": "code",
   "execution_count": null,
   "id": "07422a55",
   "metadata": {},
   "outputs": [],
   "source": [
    "# Check for null values if any\n",
    "\n",
    "df.isnull().values.any()\n"
   ]
  },
  {
   "cell_type": "raw",
   "id": "5700965d",
   "metadata": {},
   "source": [
    "Our Data Contains No Null values"
   ]
  },
  {
   "cell_type": "code",
   "execution_count": null,
   "id": "fd8a1a96",
   "metadata": {},
   "outputs": [],
   "source": [
    "# Check for duplicate values\n",
    "\n",
    "duplicateRows = df[df.duplicated()]\n",
    "\n",
    "duplicateRows"
   ]
  },
  {
   "cell_type": "raw",
   "id": "55aebbb2",
   "metadata": {},
   "source": [
    "Our Data Contains No Duplicated Values"
   ]
  },
  {
   "cell_type": "markdown",
   "id": "37e1b59c",
   "metadata": {},
   "source": [
    "# Check For NAN Values In df\n"
   ]
  },
  {
   "cell_type": "code",
   "execution_count": null,
   "id": "56b874a8",
   "metadata": {},
   "outputs": [],
   "source": [
    "df.isna().any()"
   ]
  },
  {
   "cell_type": "raw",
   "id": "1b3c6eff",
   "metadata": {},
   "source": [
    "Our Data contains no NAN Values"
   ]
  },
  {
   "cell_type": "code",
   "execution_count": null,
   "id": "d391e422",
   "metadata": {},
   "outputs": [],
   "source": [
    "df.type.value_counts()\n"
   ]
  },
  {
   "cell_type": "code",
   "execution_count": null,
   "id": "79bbb579",
   "metadata": {},
   "outputs": [],
   "source": [
    "df.isFraud.value_counts()\n"
   ]
  },
  {
   "cell_type": "code",
   "execution_count": null,
   "id": "99e4ef33",
   "metadata": {},
   "outputs": [],
   "source": [
    "df.isFlaggedFraud.value_counts()\n"
   ]
  },
  {
   "cell_type": "markdown",
   "id": "2b1e9f82",
   "metadata": {},
   "source": [
    "# We group fraud transaction and non fraud transactions together similarly we group transaction that are flagged as fraud together"
   ]
  },
  {
   "cell_type": "code",
   "execution_count": null,
   "id": "5cf378d5",
   "metadata": {},
   "outputs": [],
   "source": [
    "Fraud=df.loc[df.isFraud == 1]\n",
    "Fraud.head()"
   ]
  },
  {
   "cell_type": "code",
   "execution_count": null,
   "id": "eb55e69b",
   "metadata": {},
   "outputs": [],
   "source": [
    "FlaggedFraud= df.loc[df.isFlaggedFraud == 1]\n",
    "FlaggedFraud.head(10)"
   ]
  },
  {
   "cell_type": "code",
   "execution_count": null,
   "id": "54cd9b81",
   "metadata": {},
   "outputs": [],
   "source": [
    "def countplot(x,df):\n",
    "    bar_plot1 = sns.countplot(x=x, data=df, order = df[x].value_counts().index)\n",
    "    for p in bar_plot1.patches:\n",
    "        height = p.get_height()\n",
    "        bar_plot1.text(p.get_x()+ p.get_width()/2, height + 1, height)"
   ]
  },
  {
   "cell_type": "code",
   "execution_count": null,
   "id": "3eee5ced",
   "metadata": {},
   "outputs": [],
   "source": [
    "countplot(\"isFraud\", df)\n"
   ]
  },
  {
   "cell_type": "code",
   "execution_count": null,
   "id": "b5a29a66",
   "metadata": {},
   "outputs": [],
   "source": [
    "sns.countplot(df.type) ## for discrete data\n"
   ]
  },
  {
   "cell_type": "code",
   "execution_count": null,
   "id": "f3f5fdb2",
   "metadata": {},
   "outputs": [],
   "source": [
    "# Visualizing correlation coefficients between features and cancellation:\n",
    "fig = plt.figure(figsize=(8,10))\n",
    "ax = sns.heatmap(df.corr()[['isFraud']].sort_values('isFraud', ascending=False), annot = True, annot_kws = {\"size\":12}, cmap='Blues')\n",
    "ax.set_title('Correlation Coefficient Between Each Numeric Feature and Fraud Status', fontsize=18)\n",
    "ax.set_xlabel('Features', fontsize = 16)\n",
    "ax.set_ylabel('Features', fontsize = 16)\n",
    "ax.tick_params(axis = \"both\", labelsize = 12);\n",
    "y_min, y_max = ax.get_ylim()\n",
    "ax.set_ylim(top=y_max+1);"
   ]
  },
  {
   "cell_type": "raw",
   "id": "8d083a0c",
   "metadata": {},
   "source": [
    "Here we see that\n",
    "\n",
    "1. Amount is the factor which is most significantly related whether the transaction will be a fraudulent transaction. This makes sense since higher the amount. Higher the chances of Fraudulent transaction\n",
    "2. newbalanceOrig is also related the most to whether the transaction is fraud or not. This means that this parameter can be monitored to see if the transaction is fraudulent or not\n",
    "3. Also step(Time) has high correlation with fraudulent activities"
   ]
  },
  {
   "cell_type": "markdown",
   "id": "b28d1cab",
   "metadata": {},
   "source": [
    "## coverting categorical features to numerical\n"
   ]
  },
  {
   "cell_type": "code",
   "execution_count": null,
   "id": "4c8eb308",
   "metadata": {},
   "outputs": [],
   "source": [
    "from sklearn.preprocessing import LabelEncoder\n",
    "label = LabelEncoder()\n",
    "df.type=label.fit_transform(df.type)\n",
    "df.nameOrig=label.fit_transform(df.nameOrig)\n",
    "df.nameDest=label.fit_transform(df.nameDest)"
   ]
  },
  {
   "cell_type": "markdown",
   "id": "64e61fd1",
   "metadata": {},
   "source": [
    "## checking the outliers if any\n"
   ]
  },
  {
   "cell_type": "code",
   "execution_count": null,
   "id": "f83184c1",
   "metadata": {},
   "outputs": [],
   "source": [
    "\n",
    "box=df[['step', 'type', 'amount', 'nameOrig', \n",
    "          'oldbalanceOrg', 'newbalanceOrig', 'nameDest', 'oldbalanceDest', 'newbalanceDest', 'isFraud', 'isFlaggedFraud']]\n",
    "plt.figure(figsize=(25,25), facecolor='white')\n",
    "plotnumber = 1\n",
    "\n",
    "for column in box:\n",
    "    if plotnumber<=15 :     \n",
    "        ax = plt.subplot(25,1,plotnumber)\n",
    "        sns.boxplot(x=box[column])\n",
    "        plt.xlabel(column,fontsize=20)\n",
    "        \n",
    "    plotnumber+=1\n",
    "plt.show()"
   ]
  },
  {
   "cell_type": "code",
   "execution_count": null,
   "id": "074c834e",
   "metadata": {},
   "outputs": [],
   "source": [
    "# Perform Feature Selection"
   ]
  },
  {
   "cell_type": "code",
   "execution_count": null,
   "id": "549d825a",
   "metadata": {},
   "outputs": [],
   "source": [
    "##cmap stands for colormap and it's a colormap instance or registered colormap name\n",
    "plt.figure(figsize=(20, 15))\n",
    "sns.heatmap(df.corr(), annot=True, fmt= '.1f')\n",
    "sns.set(font_scale=2.25)\n",
    "plt.show()"
   ]
  },
  {
   "cell_type": "code",
   "execution_count": null,
   "id": "a0660345",
   "metadata": {},
   "outputs": [],
   "source": [
    "## displays the correlated data \n",
    "corr_matrix = df.corr()\n",
    "corr_matrix[\"isFraud\"].sort_values(ascending=False)"
   ]
  },
  {
   "cell_type": "markdown",
   "id": "9deccdee",
   "metadata": {},
   "source": [
    "# 5. What are the key factors that predict fraudulent customer?\n",
    "\n",
    "key factors that predict fraudulent customer are isFraud and amount"
   ]
  },
  {
   "cell_type": "markdown",
   "id": "b4cc3692",
   "metadata": {},
   "source": [
    "# 6. Do these factors make sense? If yes, How? If not, How not?\n",
    "\n",
    "Yes as noted above if the amount of transaction is high then the possibility of it being fraudulent is high\n"
   ]
  },
  {
   "cell_type": "markdown",
   "id": "ccf4102e",
   "metadata": {},
   "source": [
    "# Model Building"
   ]
  },
  {
   "cell_type": "code",
   "execution_count": null,
   "id": "20cff595",
   "metadata": {},
   "outputs": [],
   "source": [
    "##creating independent and dependent variables X & y\n",
    "X = df.loc[:,['isFraud','amount','oldbalanceOrg','newbalanceOrig','step','type','nameOrig']]\n",
    "y = df.isFraud"
   ]
  },
  {
   "cell_type": "code",
   "execution_count": null,
   "id": "0fed981c",
   "metadata": {},
   "outputs": [],
   "source": [
    "from sklearn.model_selection import train_test_split\n",
    "from sklearn.metrics import accuracy_score, classification_report, confusion_matrix\n",
    "\n",
    "\n",
    "# Splitting the data into test and train for calculating accuracy\n",
    "X_train, X_test, y_train, y_test = train_test_split(X,y,test_size=0.3,random_state=42)"
   ]
  },
  {
   "cell_type": "code",
   "execution_count": null,
   "id": "0453e6d7",
   "metadata": {},
   "outputs": [],
   "source": [
    "X_train.shape,X_test.shape,y_train.shape,y_test.shape\n"
   ]
  },
  {
   "cell_type": "code",
   "execution_count": null,
   "id": "ec9b7442",
   "metadata": {},
   "outputs": [],
   "source": [
    "from sklearn.preprocessing import StandardScaler\n",
    "sc = StandardScaler()\n",
    "X_train = sc.fit_transform(X_train)\n",
    "X_test = sc.transform(X_test)"
   ]
  },
  {
   "cell_type": "markdown",
   "id": "220c4923",
   "metadata": {},
   "source": [
    "# 2. Describe your fraud detection model in elaboration."
   ]
  },
  {
   "cell_type": "raw",
   "id": "59d67388",
   "metadata": {},
   "source": [
    "# I have used Decision Tree Classifier for this Task"
   ]
  },
  {
   "cell_type": "code",
   "execution_count": null,
   "id": "f2b8feab",
   "metadata": {},
   "outputs": [],
   "source": [
    "from sklearn.tree import DecisionTreeRegressor\n"
   ]
  },
  {
   "cell_type": "code",
   "execution_count": null,
   "id": "12564ed0",
   "metadata": {},
   "outputs": [],
   "source": [
    "dtree=DecisionTreeRegressor(max_depth=25)\n",
    "dtree.fit(X_train, y_train)"
   ]
  },
  {
   "cell_type": "markdown",
   "id": "0bc66187",
   "metadata": {},
   "source": [
    "# 3. How did you select variables to be included in the model?\n",
    "\n",
    "By using the heatmap and checking the correlation between the target and remaining variables"
   ]
  },
  {
   "cell_type": "markdown",
   "id": "fb41e6f8",
   "metadata": {},
   "source": [
    "# 4. Demonstrate the performance of the model by using best set of tools."
   ]
  },
  {
   "cell_type": "code",
   "execution_count": null,
   "id": "2c97679d",
   "metadata": {},
   "outputs": [],
   "source": [
    "dtree.score(X_train, y_train)\n"
   ]
  },
  {
   "cell_type": "code",
   "execution_count": null,
   "id": "b094a9c9",
   "metadata": {},
   "outputs": [],
   "source": [
    "dtree.score(X_test, y_test)\n"
   ]
  },
  {
   "cell_type": "code",
   "execution_count": null,
   "id": "e1c2c7a7",
   "metadata": {},
   "outputs": [],
   "source": [
    "p_test = dtree.predict(X_test)\n"
   ]
  },
  {
   "cell_type": "code",
   "execution_count": null,
   "id": "00db22ac",
   "metadata": {},
   "outputs": [],
   "source": [
    "def mae(p, t):\n",
    "    return np.sum(np.abs(p - t)) / len(p)"
   ]
  },
  {
   "cell_type": "code",
   "execution_count": null,
   "id": "97b48dbd",
   "metadata": {},
   "outputs": [],
   "source": [
    "mae(p_test, y_test)\n"
   ]
  },
  {
   "cell_type": "code",
   "execution_count": null,
   "id": "ae8807ce",
   "metadata": {},
   "outputs": [],
   "source": [
    "def print_score(mm):\n",
    "    print(\"train r^2 \" + str(mm.score(X_train, y_train)))\n",
    "    print(\"validation r^2 \" + str(mm.score(X_test, y_test)))\n",
    "    p_test = mm.predict(X_test)\n",
    "    p_train = mm.predict(X_train)\n",
    "    print(\"mean absolute error(Train): \" + str(mae(p_train, y_train)))\n",
    "    print(\"mean absolute error(Validation): \" + str(mae(p_test, y_test)))\n",
    "print_score(dtree)"
   ]
  },
  {
   "cell_type": "code",
   "execution_count": null,
   "id": "89a5189e",
   "metadata": {},
   "outputs": [],
   "source": [
    "p_test = dtree.predict(X_test)\n"
   ]
  },
  {
   "cell_type": "code",
   "execution_count": null,
   "id": "f3e27e27",
   "metadata": {},
   "outputs": [],
   "source": [
    "p_test\n"
   ]
  },
  {
   "cell_type": "markdown",
   "id": "23bb2e44",
   "metadata": {},
   "source": [
    "# 7. What kind of prevention should be adopted while company update its infrastructure?\n",
    "\n",
    "Set limits on the amount of transactions if it is very high amount deploy two step verification or identity verification techniques to verify identity"
   ]
  },
  {
   "cell_type": "markdown",
   "id": "3c966a32",
   "metadata": {},
   "source": [
    "# 8. Assuming these actions have been implemented, how would you determine if they work?\n",
    "\n",
    "We can again run these models on new data obtained and see the results to determine if they work or not"
   ]
  },
  {
   "cell_type": "code",
   "execution_count": null,
   "id": "b8d162fb",
   "metadata": {},
   "outputs": [],
   "source": []
  }
 ],
 "metadata": {
  "kernelspec": {
   "display_name": "Python 3 (ipykernel)",
   "language": "python",
   "name": "python3"
  },
  "language_info": {
   "codemirror_mode": {
    "name": "ipython",
    "version": 3
   },
   "file_extension": ".py",
   "mimetype": "text/x-python",
   "name": "python",
   "nbconvert_exporter": "python",
   "pygments_lexer": "ipython3",
   "version": "3.9.7"
  }
 },
 "nbformat": 4,
 "nbformat_minor": 5
}
